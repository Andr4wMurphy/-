{
 "cells": [
  {
   "cell_type": "code",
   "execution_count": 2,
   "metadata": {
    "collapsed": true,
    "ExecuteTime": {
     "end_time": "2023-07-23T03:21:25.924024700Z",
     "start_time": "2023-07-23T03:21:25.869850300Z"
    }
   },
   "outputs": [
    {
     "data": {
      "text/plain": "      Hs  Hmax     Tz     Tp  Peak Direction    SST\n0  0.763  1.15  4.520  5.513            49.0  25.65\n1  0.770  1.41  4.582  5.647            75.0  25.50\n2  0.747  1.16  4.515  5.083            91.0  25.45\n3  0.718  1.61  4.614  6.181            68.0  25.45\n4  0.707  1.34  4.568  4.705            73.0  25.50",
      "text/html": "<div>\n<style scoped>\n    .dataframe tbody tr th:only-of-type {\n        vertical-align: middle;\n    }\n\n    .dataframe tbody tr th {\n        vertical-align: top;\n    }\n\n    .dataframe thead th {\n        text-align: right;\n    }\n</style>\n<table border=\"1\" class=\"dataframe\">\n  <thead>\n    <tr style=\"text-align: right;\">\n      <th></th>\n      <th>Hs</th>\n      <th>Hmax</th>\n      <th>Tz</th>\n      <th>Tp</th>\n      <th>Peak Direction</th>\n      <th>SST</th>\n    </tr>\n  </thead>\n  <tbody>\n    <tr>\n      <th>0</th>\n      <td>0.763</td>\n      <td>1.15</td>\n      <td>4.520</td>\n      <td>5.513</td>\n      <td>49.0</td>\n      <td>25.65</td>\n    </tr>\n    <tr>\n      <th>1</th>\n      <td>0.770</td>\n      <td>1.41</td>\n      <td>4.582</td>\n      <td>5.647</td>\n      <td>75.0</td>\n      <td>25.50</td>\n    </tr>\n    <tr>\n      <th>2</th>\n      <td>0.747</td>\n      <td>1.16</td>\n      <td>4.515</td>\n      <td>5.083</td>\n      <td>91.0</td>\n      <td>25.45</td>\n    </tr>\n    <tr>\n      <th>3</th>\n      <td>0.718</td>\n      <td>1.61</td>\n      <td>4.614</td>\n      <td>6.181</td>\n      <td>68.0</td>\n      <td>25.45</td>\n    </tr>\n    <tr>\n      <th>4</th>\n      <td>0.707</td>\n      <td>1.34</td>\n      <td>4.568</td>\n      <td>4.705</td>\n      <td>73.0</td>\n      <td>25.50</td>\n    </tr>\n  </tbody>\n</table>\n</div>"
     },
     "execution_count": 2,
     "metadata": {},
     "output_type": "execute_result"
    }
   ],
   "source": [
    "import numpy as np\n",
    "import pandas as pd\n",
    "\n",
    "df = pd.read_csv('data/Coastal Data System - Waves (Mooloolaba) 01-2017 to 06 - 2019.csv')\n",
    "df.replace(-99.90, np.nan, inplace=True)\n",
    "df.drop('Date/Time', axis=1, inplace=True)\n",
    "df.dropna(inplace=True)\n",
    "df.reset_index(drop=True, inplace=True)\n",
    "df.head()"
   ]
  },
  {
   "cell_type": "code",
   "execution_count": 2,
   "outputs": [
    {
     "data": {
      "text/plain": "Hmax\n0.510                                     [20.8]\n0.520                                     [20.8]\n0.530    [23.7, 23.7, 20.85, 20.75, 21.15, 22.6]\n0.540                              [23.7, 20.85]\n0.550                 [20.95, 20.75, 22.7, 21.5]\n                          ...                   \n7.037                                     [21.3]\n7.091                                    [21.15]\n7.262                                     [21.1]\n7.327                                     [26.8]\n7.906                                    [26.85]\nLength: 2338, dtype: object"
     },
     "execution_count": 2,
     "metadata": {},
     "output_type": "execute_result"
    }
   ],
   "source": [
    "transactions = df.groupby(by=\"Hmax\").apply(lambda i: list(i.SST))\n",
    "transactions"
   ],
   "metadata": {
    "collapsed": false,
    "ExecuteTime": {
     "start_time": "2023-04-13T12:44:20.248026Z",
     "end_time": "2023-04-13T12:44:20.424774Z"
    }
   }
  },
  {
   "cell_type": "code",
   "execution_count": 3,
   "outputs": [
    {
     "data": {
      "text/plain": "[RelationRecord(items=frozenset({21.9}), support=0.11804961505560307, ordered_statistics=[OrderedStatistic(items_base=frozenset(), items_add=frozenset({21.9}), confidence=0.11804961505560307, lift=1.0)]),\n RelationRecord(items=frozenset({23.85}), support=0.10778443113772455, ordered_statistics=[OrderedStatistic(items_base=frozenset(), items_add=frozenset({23.85}), confidence=0.10778443113772455, lift=1.0)]),\n RelationRecord(items=frozenset({24.05}), support=0.10949529512403763, ordered_statistics=[OrderedStatistic(items_base=frozenset(), items_add=frozenset({24.05}), confidence=0.10949529512403763, lift=1.0)]),\n RelationRecord(items=frozenset({25.9}), support=0.10778443113772455, ordered_statistics=[OrderedStatistic(items_base=frozenset(), items_add=frozenset({25.9}), confidence=0.10778443113772455, lift=1.0)]),\n RelationRecord(items=frozenset({25.95}), support=0.10564585115483319, ordered_statistics=[OrderedStatistic(items_base=frozenset(), items_add=frozenset({25.95}), confidence=0.10564585115483319, lift=1.0)]),\n RelationRecord(items=frozenset({26.05}), support=0.1223267750213858, ordered_statistics=[OrderedStatistic(items_base=frozenset(), items_add=frozenset({26.05}), confidence=0.1223267750213858, lift=1.0)]),\n RelationRecord(items=frozenset({26.15}), support=0.10906757912745936, ordered_statistics=[OrderedStatistic(items_base=frozenset(), items_add=frozenset({26.15}), confidence=0.10906757912745936, lift=1.0)]),\n RelationRecord(items=frozenset({26.2}), support=0.1009409751924722, ordered_statistics=[OrderedStatistic(items_base=frozenset(), items_add=frozenset({26.2}), confidence=0.1009409751924722, lift=1.0)]),\n RelationRecord(items=frozenset({26.55}), support=0.10735671514114628, ordered_statistics=[OrderedStatistic(items_base=frozenset(), items_add=frozenset({26.55}), confidence=0.10735671514114628, lift=1.0)]),\n RelationRecord(items=frozenset({26.8}), support=0.10136869118905047, ordered_statistics=[OrderedStatistic(items_base=frozenset(), items_add=frozenset({26.8}), confidence=0.10136869118905047, lift=1.0)]),\n RelationRecord(items=frozenset({26.85}), support=0.12147134302822926, ordered_statistics=[OrderedStatistic(items_base=frozenset(), items_add=frozenset({26.85}), confidence=0.12147134302822926, lift=1.0)]),\n RelationRecord(items=frozenset({26.9}), support=0.1086398631308811, ordered_statistics=[OrderedStatistic(items_base=frozenset(), items_add=frozenset({26.9}), confidence=0.1086398631308811, lift=1.0)]),\n RelationRecord(items=frozenset({26.95}), support=0.11505560307955517, ordered_statistics=[OrderedStatistic(items_base=frozenset(), items_add=frozenset({26.95}), confidence=0.11505560307955517, lift=1.0)]),\n RelationRecord(items=frozenset({27.0}), support=0.11120615911035073, ordered_statistics=[OrderedStatistic(items_base=frozenset(), items_add=frozenset({27.0}), confidence=0.11120615911035073, lift=1.0)])]"
     },
     "execution_count": 3,
     "metadata": {},
     "output_type": "execute_result"
    }
   ],
   "source": [
    "from apyori import apriori\n",
    "\n",
    "# apriori包是一个用于关联规则挖掘的算法包，常用于频繁项集的发现。它的主要参数有：\n",
    "#\n",
    "# 1. data：要进行关联规则挖掘的数据集。\n",
    "# 2. min_support：最小支持度阈值，用于确定频繁项集的阈值。支持度指的是包含该项集的事务数与总事务数之比。\n",
    "# 3. min_confidence：最小置信度阈值，用于确定关联规则的阈值。置信度指的是规则的条件和结论同时发生的概率。\n",
    "# 4. min_lift：最小提升度阈值，用于确定关联规则的阈值。提升度指的是规则中结论的发生概率相对于条件发生概率的增益程度。\n",
    "# 5. max_length：频繁项集的最大长度限制。\n",
    "#\n",
    "# 这些参数可以根据具体应用场景和需求进行调整，以得到满足要求的关联规则挖掘结果。\n",
    "\n",
    "min_supp = 0.1\n",
    "min_conf = 0.1\n",
    "min_lift = 0.1\n",
    "result = list(apriori(transactions=transactions, min_support=min_supp, min_confidence=min_conf, min_lift=min_lift))\n",
    "result"
   ],
   "metadata": {
    "collapsed": false,
    "ExecuteTime": {
     "start_time": "2023-04-13T12:44:20.423088Z",
     "end_time": "2023-04-13T12:44:20.440667Z"
    }
   }
  },
  {
   "cell_type": "code",
   "execution_count": 4,
   "outputs": [
    {
     "data": {
      "text/plain": "     support  confidence  lift base      add\n0   0.118050    0.118050   1.0   []   [21.9]\n1   0.107784    0.107784   1.0   []  [23.85]\n2   0.109495    0.109495   1.0   []  [24.05]\n3   0.107784    0.107784   1.0   []   [25.9]\n4   0.105646    0.105646   1.0   []  [25.95]\n5   0.122327    0.122327   1.0   []  [26.05]\n6   0.109068    0.109068   1.0   []  [26.15]\n7   0.100941    0.100941   1.0   []   [26.2]\n8   0.107357    0.107357   1.0   []  [26.55]\n9   0.101369    0.101369   1.0   []   [26.8]\n10  0.121471    0.121471   1.0   []  [26.85]\n11  0.108640    0.108640   1.0   []   [26.9]\n12  0.115056    0.115056   1.0   []  [26.95]\n13  0.111206    0.111206   1.0   []   [27.0]",
      "text/html": "<div>\n<style scoped>\n    .dataframe tbody tr th:only-of-type {\n        vertical-align: middle;\n    }\n\n    .dataframe tbody tr th {\n        vertical-align: top;\n    }\n\n    .dataframe thead th {\n        text-align: right;\n    }\n</style>\n<table border=\"1\" class=\"dataframe\">\n  <thead>\n    <tr style=\"text-align: right;\">\n      <th></th>\n      <th>support</th>\n      <th>confidence</th>\n      <th>lift</th>\n      <th>base</th>\n      <th>add</th>\n    </tr>\n  </thead>\n  <tbody>\n    <tr>\n      <th>0</th>\n      <td>0.118050</td>\n      <td>0.118050</td>\n      <td>1.0</td>\n      <td>[]</td>\n      <td>[21.9]</td>\n    </tr>\n    <tr>\n      <th>1</th>\n      <td>0.107784</td>\n      <td>0.107784</td>\n      <td>1.0</td>\n      <td>[]</td>\n      <td>[23.85]</td>\n    </tr>\n    <tr>\n      <th>2</th>\n      <td>0.109495</td>\n      <td>0.109495</td>\n      <td>1.0</td>\n      <td>[]</td>\n      <td>[24.05]</td>\n    </tr>\n    <tr>\n      <th>3</th>\n      <td>0.107784</td>\n      <td>0.107784</td>\n      <td>1.0</td>\n      <td>[]</td>\n      <td>[25.9]</td>\n    </tr>\n    <tr>\n      <th>4</th>\n      <td>0.105646</td>\n      <td>0.105646</td>\n      <td>1.0</td>\n      <td>[]</td>\n      <td>[25.95]</td>\n    </tr>\n    <tr>\n      <th>5</th>\n      <td>0.122327</td>\n      <td>0.122327</td>\n      <td>1.0</td>\n      <td>[]</td>\n      <td>[26.05]</td>\n    </tr>\n    <tr>\n      <th>6</th>\n      <td>0.109068</td>\n      <td>0.109068</td>\n      <td>1.0</td>\n      <td>[]</td>\n      <td>[26.15]</td>\n    </tr>\n    <tr>\n      <th>7</th>\n      <td>0.100941</td>\n      <td>0.100941</td>\n      <td>1.0</td>\n      <td>[]</td>\n      <td>[26.2]</td>\n    </tr>\n    <tr>\n      <th>8</th>\n      <td>0.107357</td>\n      <td>0.107357</td>\n      <td>1.0</td>\n      <td>[]</td>\n      <td>[26.55]</td>\n    </tr>\n    <tr>\n      <th>9</th>\n      <td>0.101369</td>\n      <td>0.101369</td>\n      <td>1.0</td>\n      <td>[]</td>\n      <td>[26.8]</td>\n    </tr>\n    <tr>\n      <th>10</th>\n      <td>0.121471</td>\n      <td>0.121471</td>\n      <td>1.0</td>\n      <td>[]</td>\n      <td>[26.85]</td>\n    </tr>\n    <tr>\n      <th>11</th>\n      <td>0.108640</td>\n      <td>0.108640</td>\n      <td>1.0</td>\n      <td>[]</td>\n      <td>[26.9]</td>\n    </tr>\n    <tr>\n      <th>12</th>\n      <td>0.115056</td>\n      <td>0.115056</td>\n      <td>1.0</td>\n      <td>[]</td>\n      <td>[26.95]</td>\n    </tr>\n    <tr>\n      <th>13</th>\n      <td>0.111206</td>\n      <td>0.111206</td>\n      <td>1.0</td>\n      <td>[]</td>\n      <td>[27.0]</td>\n    </tr>\n  </tbody>\n</table>\n</div>"
     },
     "execution_count": 4,
     "metadata": {},
     "output_type": "execute_result"
    }
   ],
   "source": [
    "supports = []\n",
    "confidence = []\n",
    "lifts = []\n",
    "bases = []\n",
    "adds = []\n",
    "for r in result:\n",
    "    for x in r.ordered_statistics:\n",
    "        supports.append(r.support)\n",
    "        confidence.append(x.confidence)\n",
    "        lifts.append(x.lift)\n",
    "        bases.append(list(x.items_base))\n",
    "        adds.append(list(x.items_add))\n",
    "resultShow = pd.DataFrame({\n",
    "    'support': supports,\n",
    "    'confidence': confidence,\n",
    "    'lift': lifts,\n",
    "    'base': bases,\n",
    "    'add': adds\n",
    "})\n",
    "resultShow"
   ],
   "metadata": {
    "collapsed": false,
    "ExecuteTime": {
     "start_time": "2023-04-13T12:44:20.451494Z",
     "end_time": "2023-04-13T12:44:20.513328Z"
    }
   }
  },
  {
   "cell_type": "code",
   "execution_count": 4,
   "outputs": [],
   "source": [],
   "metadata": {
    "collapsed": false,
    "ExecuteTime": {
     "start_time": "2023-04-13T12:44:20.513027Z",
     "end_time": "2023-04-13T12:44:20.513914Z"
    }
   }
  }
 ],
 "metadata": {
  "kernelspec": {
   "display_name": "Python 3",
   "language": "python",
   "name": "python3"
  },
  "language_info": {
   "codemirror_mode": {
    "name": "ipython",
    "version": 2
   },
   "file_extension": ".py",
   "mimetype": "text/x-python",
   "name": "python",
   "nbconvert_exporter": "python",
   "pygments_lexer": "ipython2",
   "version": "2.7.6"
  }
 },
 "nbformat": 4,
 "nbformat_minor": 0
}
